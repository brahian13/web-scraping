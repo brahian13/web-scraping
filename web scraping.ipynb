{
 "cells": [
  {
   "cell_type": "code",
   "execution_count": 19,
   "id": "3fd1611f",
   "metadata": {},
   "outputs": [],
   "source": [
    "import pandas as pd\n",
    "import numpy as np\n",
    "import matplotlib.pyplot as plt\n",
    "import seaborn as sns"
   ]
  },
  {
   "cell_type": "code",
   "execution_count": 2,
   "id": "0e3990e0",
   "metadata": {},
   "outputs": [],
   "source": [
    "vf = pd.read_html('https://es.volleyballworld.com/volleyball/competitions/vnl-2023/statistics/women/best-scorers/')"
   ]
  },
  {
   "cell_type": "code",
   "execution_count": 3,
   "id": "67d9974d",
   "metadata": {},
   "outputs": [
    {
     "data": {
      "text/plain": [
       "[     Número de camisetaCamiseta         Nombre del jugador/aNom. Jug.  \\\n",
       " 0                             4                 Vargas Melissa Teresa   \n",
       " 1                             9                     Stysiak Magdalena   \n",
       " 2                            12                           Li Yingying   \n",
       " 3                            15               Nwakalor Sylvia Chinelo   \n",
       " 4                            20           Martinez Brayelin Elizabeth   \n",
       " ..                          ...                                   ...   \n",
       " 259                           3                         Osmajic Minja   \n",
       " 260                          20                      Zelenovic Jovana   \n",
       " 261                           7                      Fersino Eleonora   \n",
       " 262                           5                            Aykac Ayca   \n",
       " 263                           3  Alexandre Costa Nunes Nyeme Victoria   \n",
       " \n",
       "     EquipoTeam  PuntosPts  Attack PointsA Pts  Block PointsB Pts  \\\n",
       " 0          TUR        162                 139                  9   \n",
       " 1          POL        157                 136                 19   \n",
       " 2          CHN        156                 138                  9   \n",
       " 3          ITA        155                 133                 19   \n",
       " 4          DOM        146                 122                 20   \n",
       " ..         ...        ...                 ...                ...   \n",
       " 259        SRB          0                   0                  0   \n",
       " 260        SRB          0                   0                  0   \n",
       " 261        ITA          0                   0                  0   \n",
       " 262        TUR          0                   0                  0   \n",
       " 263        BRA          0                   0                  0   \n",
       " \n",
       "      Serve PointsS Pts  \n",
       " 0                   14  \n",
       " 1                    2  \n",
       " 2                    9  \n",
       " 3                    3  \n",
       " 4                    4  \n",
       " ..                 ...  \n",
       " 259                  0  \n",
       " 260                  0  \n",
       " 261                  0  \n",
       " 262                  0  \n",
       " 263                  0  \n",
       " \n",
       " [264 rows x 7 columns]]"
      ]
     },
     "execution_count": 3,
     "metadata": {},
     "output_type": "execute_result"
    }
   ],
   "source": [
    "vf\n"
   ]
  },
  {
   "cell_type": "code",
   "execution_count": null,
   "id": "efcbae4f",
   "metadata": {},
   "outputs": [],
   "source": []
  },
  {
   "cell_type": "code",
   "execution_count": 10,
   "id": "f839507d",
   "metadata": {},
   "outputs": [
    {
     "data": {
      "text/plain": [
       "1"
      ]
     },
     "execution_count": 10,
     "metadata": {},
     "output_type": "execute_result"
    }
   ],
   "source": [
    "\n",
    "len(vf)\n"
   ]
  }
 ],
 "metadata": {
  "kernelspec": {
   "display_name": "Python 3 (ipykernel)",
   "language": "python",
   "name": "python3"
  },
  "language_info": {
   "codemirror_mode": {
    "name": "ipython",
    "version": 3
   },
   "file_extension": ".py",
   "mimetype": "text/x-python",
   "name": "python",
   "nbconvert_exporter": "python",
   "pygments_lexer": "ipython3",
   "version": "3.10.11"
  }
 },
 "nbformat": 4,
 "nbformat_minor": 5
}
